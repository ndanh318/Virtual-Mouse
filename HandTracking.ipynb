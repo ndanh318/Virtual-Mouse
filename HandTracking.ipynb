{
 "cells": [
  {
   "cell_type": "code",
   "execution_count": 1,
   "metadata": {},
   "outputs": [],
   "source": [
    "import cv2\n",
    "import mediapipe as mp\n",
    "import time"
   ]
  },
  {
   "cell_type": "code",
   "execution_count": 2,
   "metadata": {},
   "outputs": [],
   "source": [
    "mpHands = mp.solutions.hands\n",
    "hands = mpHands.Hands()\n",
    "mpDraw = mp.solutions.drawing_utils"
   ]
  },
  {
   "cell_type": "code",
   "execution_count": 4,
   "metadata": {},
   "outputs": [],
   "source": [
    "def drawing_hand(image, results):\n",
    "    # Draw left hand connections\n",
    "    mpDraw.draw_landmarks(image, results.left_hand_landmarks, mpHands.HAND_CONNECTIONS,\n",
    "                              mpDraw.DrawingSpec(color=(121, 22, 76), thickness=2, circle_radius=4),\n",
    "                              mpDraw.DrawingSpec(color=(121, 44, 250), thickness=2, circle_radius=2))\n",
    "    \n",
    "    # Draw right hand connections\n",
    "    mpDraw.draw_landmarks(image, results.right_hand_landmarks, mpHands.HAND_CONNECTIONS,\n",
    "                              mpDraw.DrawingSpec(color=(245, 117, 66), thickness=2, circle_radius=4),\n",
    "                              mpDraw.DrawingSpec(color=(245, 66, 230), thickness=2, circle_radius=2))"
   ]
  },
  {
   "cell_type": "code",
   "execution_count": 5,
   "metadata": {},
   "outputs": [
    {
     "ename": "AttributeError",
     "evalue": "type object 'SolutionOutputs' has no attribute 'left_hand_landmarks'",
     "output_type": "error",
     "traceback": [
      "\u001b[1;31m---------------------------------------------------------------------------\u001b[0m",
      "\u001b[1;31mAttributeError\u001b[0m                            Traceback (most recent call last)",
      "\u001b[1;32mc:\\Code\\ComputerVision\\Control Computer using HandLandmark\\HandTracking.ipynb Cell 4\u001b[0m line \u001b[0;36m1\n\u001b[0;32m     <a href='vscode-notebook-cell:/c%3A/Code/ComputerVision/Control%20Computer%20using%20HandLandmark/HandTracking.ipynb#W2sZmlsZQ%3D%3D?line=10'>11</a>\u001b[0m results \u001b[39m=\u001b[39m hands\u001b[39m.\u001b[39mprocess(image)\n\u001b[0;32m     <a href='vscode-notebook-cell:/c%3A/Code/ComputerVision/Control%20Computer%20using%20HandLandmark/HandTracking.ipynb#W2sZmlsZQ%3D%3D?line=12'>13</a>\u001b[0m \u001b[39m# Drawm Hand Landmark\u001b[39;00m\n\u001b[1;32m---> <a href='vscode-notebook-cell:/c%3A/Code/ComputerVision/Control%20Computer%20using%20HandLandmark/HandTracking.ipynb#W2sZmlsZQ%3D%3D?line=13'>14</a>\u001b[0m drawing_hand(image, results)\n\u001b[0;32m     <a href='vscode-notebook-cell:/c%3A/Code/ComputerVision/Control%20Computer%20using%20HandLandmark/HandTracking.ipynb#W2sZmlsZQ%3D%3D?line=15'>16</a>\u001b[0m \u001b[39m# Convert RGB to BGR\u001b[39;00m\n\u001b[0;32m     <a href='vscode-notebook-cell:/c%3A/Code/ComputerVision/Control%20Computer%20using%20HandLandmark/HandTracking.ipynb#W2sZmlsZQ%3D%3D?line=16'>17</a>\u001b[0m image\u001b[39m.\u001b[39mflags\u001b[39m.\u001b[39mwriteable \u001b[39m=\u001b[39m \u001b[39mTrue\u001b[39;00m\n",
      "\u001b[1;32mc:\\Code\\ComputerVision\\Control Computer using HandLandmark\\HandTracking.ipynb Cell 4\u001b[0m line \u001b[0;36m3\n\u001b[0;32m      <a href='vscode-notebook-cell:/c%3A/Code/ComputerVision/Control%20Computer%20using%20HandLandmark/HandTracking.ipynb#W2sZmlsZQ%3D%3D?line=0'>1</a>\u001b[0m \u001b[39mdef\u001b[39;00m \u001b[39mdrawing_hand\u001b[39m(image, results):\n\u001b[0;32m      <a href='vscode-notebook-cell:/c%3A/Code/ComputerVision/Control%20Computer%20using%20HandLandmark/HandTracking.ipynb#W2sZmlsZQ%3D%3D?line=1'>2</a>\u001b[0m     \u001b[39m# Draw left hand connections\u001b[39;00m\n\u001b[1;32m----> <a href='vscode-notebook-cell:/c%3A/Code/ComputerVision/Control%20Computer%20using%20HandLandmark/HandTracking.ipynb#W2sZmlsZQ%3D%3D?line=2'>3</a>\u001b[0m     mpDraw\u001b[39m.\u001b[39mdraw_landmarks(image, results\u001b[39m.\u001b[39;49mleft_hand_landmarks, mpHands\u001b[39m.\u001b[39mHAND_CONNECTIONS,\n\u001b[0;32m      <a href='vscode-notebook-cell:/c%3A/Code/ComputerVision/Control%20Computer%20using%20HandLandmark/HandTracking.ipynb#W2sZmlsZQ%3D%3D?line=3'>4</a>\u001b[0m                               mpDraw\u001b[39m.\u001b[39mDrawingSpec(color\u001b[39m=\u001b[39m(\u001b[39m121\u001b[39m, \u001b[39m22\u001b[39m, \u001b[39m76\u001b[39m), thickness\u001b[39m=\u001b[39m\u001b[39m2\u001b[39m, circle_radius\u001b[39m=\u001b[39m\u001b[39m4\u001b[39m),\n\u001b[0;32m      <a href='vscode-notebook-cell:/c%3A/Code/ComputerVision/Control%20Computer%20using%20HandLandmark/HandTracking.ipynb#W2sZmlsZQ%3D%3D?line=4'>5</a>\u001b[0m                               mpDraw\u001b[39m.\u001b[39mDrawingSpec(color\u001b[39m=\u001b[39m(\u001b[39m121\u001b[39m, \u001b[39m44\u001b[39m, \u001b[39m250\u001b[39m), thickness\u001b[39m=\u001b[39m\u001b[39m2\u001b[39m, circle_radius\u001b[39m=\u001b[39m\u001b[39m2\u001b[39m))\n\u001b[0;32m      <a href='vscode-notebook-cell:/c%3A/Code/ComputerVision/Control%20Computer%20using%20HandLandmark/HandTracking.ipynb#W2sZmlsZQ%3D%3D?line=6'>7</a>\u001b[0m     \u001b[39m# Draw right hand connections\u001b[39;00m\n\u001b[0;32m      <a href='vscode-notebook-cell:/c%3A/Code/ComputerVision/Control%20Computer%20using%20HandLandmark/HandTracking.ipynb#W2sZmlsZQ%3D%3D?line=7'>8</a>\u001b[0m     mpDraw\u001b[39m.\u001b[39mdraw_landmarks(image, results\u001b[39m.\u001b[39mright_hand_landmarks, mpHands\u001b[39m.\u001b[39mHAND_CONNECTIONS,\n\u001b[0;32m      <a href='vscode-notebook-cell:/c%3A/Code/ComputerVision/Control%20Computer%20using%20HandLandmark/HandTracking.ipynb#W2sZmlsZQ%3D%3D?line=8'>9</a>\u001b[0m                               mpDraw\u001b[39m.\u001b[39mDrawingSpec(color\u001b[39m=\u001b[39m(\u001b[39m245\u001b[39m, \u001b[39m117\u001b[39m, \u001b[39m66\u001b[39m), thickness\u001b[39m=\u001b[39m\u001b[39m2\u001b[39m, circle_radius\u001b[39m=\u001b[39m\u001b[39m4\u001b[39m),\n\u001b[0;32m     <a href='vscode-notebook-cell:/c%3A/Code/ComputerVision/Control%20Computer%20using%20HandLandmark/HandTracking.ipynb#W2sZmlsZQ%3D%3D?line=9'>10</a>\u001b[0m                               mpDraw\u001b[39m.\u001b[39mDrawingSpec(color\u001b[39m=\u001b[39m(\u001b[39m245\u001b[39m, \u001b[39m66\u001b[39m, \u001b[39m230\u001b[39m), thickness\u001b[39m=\u001b[39m\u001b[39m2\u001b[39m, circle_radius\u001b[39m=\u001b[39m\u001b[39m2\u001b[39m))\n",
      "\u001b[1;31mAttributeError\u001b[0m: type object 'SolutionOutputs' has no attribute 'left_hand_landmarks'"
     ]
    }
   ],
   "source": [
    "cap = cv2.VideoCapture(0)\n",
    "\n",
    "while True:\n",
    "    ret, frame = cap.read()\n",
    "    \n",
    "    # Convert BGR to RGB\n",
    "    image = cv2.cvtColor(frame, cv2.COLOR_BGR2RGB)\n",
    "    image.flags.writeable = False\n",
    "    \n",
    "    # Hand Detection\n",
    "    results = hands.process(image)\n",
    "    \n",
    "    # Drawm Hand Landmark\n",
    "    drawing_hand(image, results)\n",
    "    \n",
    "    # Convert RGB to BGR\n",
    "    image.flags.writeable = True\n",
    "    image = cv2.cvtColor(image, cv2.COLOR_RGB2BGR)\n",
    "    \n",
    "    # Display on screen\n",
    "    cv2.imshow(\"Camera\", image)\n",
    "    \n",
    "    # Break\n",
    "    if cv2.waitKey(10) & 0xFF == ord(\"q\"):\n",
    "        break\n",
    "    \n",
    "cap.release()\n",
    "cv2.destroyAllWindows()"
   ]
  },
  {
   "cell_type": "code",
   "execution_count": 6,
   "metadata": {},
   "outputs": [],
   "source": [
    "cap.release()\n",
    "cv2.destroyAllWindows()"
   ]
  }
 ],
 "metadata": {
  "kernelspec": {
   "display_name": "Python 3",
   "language": "python",
   "name": "python3"
  },
  "language_info": {
   "codemirror_mode": {
    "name": "ipython",
    "version": 3
   },
   "file_extension": ".py",
   "mimetype": "text/x-python",
   "name": "python",
   "nbconvert_exporter": "python",
   "pygments_lexer": "ipython3",
   "version": "3.10.9"
  }
 },
 "nbformat": 4,
 "nbformat_minor": 2
}
